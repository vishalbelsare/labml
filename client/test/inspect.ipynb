{
 "cells": [
  {
   "cell_type": "code",
   "metadata": {
    "pycharm": {
     "name": "#%%\n"
    },
    "ExecuteTime": {
     "end_time": "2024-09-26T09:03:12.959254Z",
     "start_time": "2024-09-26T09:03:11.951760Z"
    }
   },
   "source": [
    "from labml.logger import inspect\n",
    "import numpy as np\n",
    "import torch"
   ],
   "outputs": [],
   "execution_count": 2
  },
  {
   "cell_type": "code",
   "metadata": {
    "pycharm": {
     "name": "#%%\n"
    },
    "ExecuteTime": {
     "end_time": "2024-09-26T09:03:13.015873Z",
     "start_time": "2024-09-26T09:03:12.973134Z"
    }
   },
   "source": [
    "inspect(np.array([1, 2, 3]))"
   ],
   "outputs": [
    {
     "data": {
      "text/plain": [
       "HTML(value='<pre  style=\"overflow-x: scroll;\"><strong></strong><span style=\"color: #C5C1B4\">[</span><strong>1<…"
      ],
      "application/vnd.jupyter.widget-view+json": {
       "version_major": 2,
       "version_minor": 0,
       "model_id": "bbf2bd99da004d48b4c8396478feabd8"
      }
     },
     "metadata": {},
     "output_type": "display_data"
    }
   ],
   "execution_count": 3
  },
  {
   "cell_type": "code",
   "metadata": {
    "pycharm": {
     "name": "#%%\n"
    },
    "ExecuteTime": {
     "end_time": "2024-09-26T09:03:13.029095Z",
     "start_time": "2024-09-26T09:03:13.024366Z"
    }
   },
   "source": [
    "inspect(torch.tensor([[1, 2, 3], [1, 2, 3]]))"
   ],
   "outputs": [
    {
     "data": {
      "text/plain": [
       "HTML(value='<pre  style=\"overflow-x: scroll;\"><strong></strong><span style=\"color: #C5C1B4\">[</span><strong></…"
      ],
      "application/vnd.jupyter.widget-view+json": {
       "version_major": 2,
       "version_minor": 0,
       "model_id": "27efb0195bd14e4abcc9f92786d4fe74"
      }
     },
     "metadata": {},
     "output_type": "display_data"
    }
   ],
   "execution_count": 4
  },
  {
   "cell_type": "code",
   "metadata": {
    "pycharm": {
     "name": "#%%\n"
    },
    "ExecuteTime": {
     "end_time": "2024-09-26T09:03:13.043561Z",
     "start_time": "2024-09-26T09:03:13.036512Z"
    }
   },
   "source": [
    "inspect(np.arange(100))"
   ],
   "outputs": [
    {
     "data": {
      "text/plain": [
       "HTML(value='<pre  style=\"overflow-x: scroll;\"><span style=\"color: #C5C1B4\">dtype: </span><span style=\"color: #…"
      ],
      "application/vnd.jupyter.widget-view+json": {
       "version_major": 2,
       "version_minor": 0,
       "model_id": "5f1685c2e7554f1d85c4076d711d96ca"
      }
     },
     "metadata": {},
     "output_type": "display_data"
    }
   ],
   "execution_count": 5
  },
  {
   "cell_type": "code",
   "metadata": {
    "pycharm": {
     "name": "#%%\n"
    },
    "ExecuteTime": {
     "end_time": "2024-09-26T09:03:13.061047Z",
     "start_time": "2024-09-26T09:03:13.052813Z"
    }
   },
   "source": [
    "a = [1,2]\n",
    "for i in range(6):\n",
    "    a = [a, a]\n",
    "inspect(np.array(a))"
   ],
   "outputs": [
    {
     "data": {
      "text/plain": [
       "HTML(value='<pre  style=\"overflow-x: scroll;\"><strong></strong><span style=\"color: #C5C1B4\">[</span><strong></…"
      ],
      "application/vnd.jupyter.widget-view+json": {
       "version_major": 2,
       "version_minor": 0,
       "model_id": "051d4d86af6245459ab6a7022da85f8b"
      }
     },
     "metadata": {},
     "output_type": "display_data"
    }
   ],
   "execution_count": 6
  },
  {
   "cell_type": "code",
   "metadata": {
    "pycharm": {
     "name": "#%%\n"
    },
    "ExecuteTime": {
     "end_time": "2024-09-26T09:03:13.080911Z",
     "start_time": "2024-09-26T09:03:13.075903Z"
    }
   },
   "source": [
    "arr = [\n",
    "    {'v': 1, 's': 'text1'},\n",
    "    {'v': 1, 's': 'text1'},\n",
    "]\n",
    "\n",
    "inspect(arr, _n=-1, _expand=True)"
   ],
   "outputs": [
    {
     "data": {
      "text/plain": [
       "HTML(value='<pre  style=\"overflow-x: scroll;\"><span style=\"text-decoration: underline\">0</span>\\n{\\'v\\': 1, \\'…"
      ],
      "application/vnd.jupyter.widget-view+json": {
       "version_major": 2,
       "version_minor": 0,
       "model_id": "94680b5b76904df8b5be4bb5e163d24e"
      }
     },
     "metadata": {},
     "output_type": "display_data"
    }
   ],
   "execution_count": 7
  },
  {
   "metadata": {},
   "cell_type": "code",
   "outputs": [],
   "execution_count": null,
   "source": ""
  }
 ],
 "metadata": {
  "kernelspec": {
   "display_name": "Python 3 (ipykernel)",
   "language": "python",
   "name": "python3"
  },
  "language_info": {
   "codemirror_mode": {
    "name": "ipython",
    "version": 3
   },
   "file_extension": ".py",
   "mimetype": "text/x-python",
   "name": "python",
   "nbconvert_exporter": "python",
   "pygments_lexer": "ipython3",
   "version": "3.7.5"
  }
 },
 "nbformat": 4,
 "nbformat_minor": 2
}
