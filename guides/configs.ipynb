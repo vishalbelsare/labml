{
 "cells": [
  {
   "cell_type": "markdown",
   "metadata": {},
   "source": [
    "# Configs\n",
    "\n",
    "[![Github](https://img.shields.io/github/stars/lab-ml/labml?style=social)](https://github.com/lab-ml/labml)\n",
    "[![Open In Colab](https://colab.research.google.com/assets/colab-badge.svg)](https://colab.research.google.com/github/lab-ml/labml/blob/master/guides/configs.ipynb)\n",
    "[![Docs](https://img.shields.io/badge/labml-docs-blue)](https://docs.labml.ai/api/configs.html)"
   ]
  },
  {
   "cell_type": "markdown",
   "metadata": {},
   "source": [
    "The configurations provide an API to easily manage hyper-parameters\n",
    "and other configurable parameters of the experiments.\n",
    "The configuration of each experiment run are stored.\n",
    "These can be viewed on [the web app](https://github.com/labmlai/labml/tree/master/app)."
   ]
  },
  {
   "cell_type": "code",
   "metadata": {
    "ExecuteTime": {
     "end_time": "2024-09-23T19:26:27.413294Z",
     "start_time": "2024-09-23T19:26:24.662700Z"
    }
   },
   "source": [
    "!pip install labml --quiet"
   ],
   "outputs": [],
   "execution_count": 1
  },
  {
   "cell_type": "code",
   "metadata": {
    "ExecuteTime": {
     "end_time": "2024-09-23T19:26:32.301099Z",
     "start_time": "2024-09-23T19:26:27.415490Z"
    }
   },
   "source": [
    "import torch\n",
    "from torch import nn\n",
    "\n",
    "from labml import tracker, monit, experiment, logger\n",
    "from labml.configs import BaseConfigs, option, calculate, hyperparams, aggregate"
   ],
   "outputs": [],
   "execution_count": 2
  },
  {
   "cell_type": "markdown",
   "metadata": {},
   "source": [
    "#### Define a configuration class"
   ]
  },
  {
   "cell_type": "code",
   "metadata": {
    "ExecuteTime": {
     "end_time": "2024-09-23T19:26:32.305332Z",
     "start_time": "2024-09-23T19:26:32.302921Z"
    }
   },
   "source": [
    "class TransformerConfigs(BaseConfigs):\n",
    "    d_model: int = 512\n",
    "    d_ff: int = 2048\n",
    "    attention: nn.Module = 'MultiHead'\n",
    "    ffn: nn.Module = 'MLP'\n",
    "    ffn_activation: nn.Module = 'ReLU'"
   ],
   "outputs": [],
   "execution_count": 3
  },
  {
   "cell_type": "markdown",
   "metadata": {},
   "source": [
    "Use of type hinting is optional."
   ]
  },
  {
   "cell_type": "markdown",
   "metadata": {},
   "source": [
    "#### Calculated configurations\n",
    "\n",
    "You can specify multiple config calculator functions.\n",
    "You pick which one to use by its name."
   ]
  },
  {
   "cell_type": "code",
   "metadata": {
    "ExecuteTime": {
     "end_time": "2024-09-23T19:26:32.309935Z",
     "start_time": "2024-09-23T19:26:32.307259Z"
    }
   },
   "source": [
    "@option(TransformerConfigs.ffn_activation)\n",
    "def ReLU(c: TransformerConfigs):\n",
    "    return nn.ReLU()\n",
    "\n",
    "@option(TransformerConfigs.ffn_activation)\n",
    "def GELU(c: TransformerConfigs):\n",
    "    return nn.GELU()"
   ],
   "outputs": [],
   "execution_count": 4
  },
  {
   "cell_type": "markdown",
   "metadata": {},
   "source": [
    "#### Inheriting and re-using configuration classes\n",
    "\n",
    "Configs classes can be inherited. This lets you separate configs into modules instead of passing [monolithic config object](https://www.reddit.com/r/MachineLearning/comments/g1vku4/d_antipatterns_in_open_sourced_ml_research_code/).\n",
    "\n",
    "You can even inherit a entire experiment setups and make a few modifications."
   ]
  },
  {
   "cell_type": "code",
   "metadata": {
    "ExecuteTime": {
     "end_time": "2024-09-23T19:26:32.318320Z",
     "start_time": "2024-09-23T19:26:32.313510Z"
    }
   },
   "source": [
    "class MyTransformerConfigs(TransformerConfigs):\n",
    "    positional_embeddings: nn.Module = 'Rotary'\n",
    "    ffn_activation: nn.Module = 'GELU'"
   ],
   "outputs": [],
   "execution_count": 5
  },
  {
   "cell_type": "markdown",
   "metadata": {},
   "source": [
    "#### Submodules\n",
    "\n",
    "Configurations can be nested."
   ]
  },
  {
   "cell_type": "code",
   "metadata": {
    "ExecuteTime": {
     "end_time": "2024-09-23T19:26:32.324959Z",
     "start_time": "2024-09-23T19:26:32.320521Z"
    }
   },
   "source": [
    "class Configs(BaseConfigs):\n",
    "    transformer: TransformerConfigs = 'rotary_transformer'\n",
    "    \n",
    "    total_steps: int\n",
    "    epochs: int\n",
    "    steps_per_epoch: int\n",
    "    \n",
    "    tokenizer: any\n",
    "    dataset: any\n",
    "    \n",
    "    task: any\n",
    "    \n",
    "@option(Configs.transformer, 'rotary_transformer')\n",
    "def rotary_transformer_configs(c: Configs):\n",
    "    conf = MyTransformerConfigs()\n",
    "    \n",
    "    conf.d_model = 256\n",
    "    \n",
    "    return conf"
   ],
   "outputs": [],
   "execution_count": 6
  },
  {
   "cell_type": "markdown",
   "metadata": {},
   "source": [
    "*It will initialize to default (based on type hint) if no options are provided.*"
   ]
  },
  {
   "cell_type": "markdown",
   "metadata": {},
   "source": [
    "### Advanced Usage"
   ]
  },
  {
   "cell_type": "markdown",
   "metadata": {},
   "source": [
    "#### Calculating with predefined functions or lambdas\n",
    "\n",
    "You can also compute configs with `lambda` functions or predefined functions"
   ]
  },
  {
   "cell_type": "code",
   "metadata": {
    "ExecuteTime": {
     "end_time": "2024-09-23T19:26:32.332681Z",
     "start_time": "2024-09-23T19:26:32.327834Z"
    }
   },
   "source": [
    "_ = calculate(Configs.total_steps, \n",
    "          [Configs.epochs, Configs.steps_per_epoch], # args\n",
    "          lambda e, s: e * s)"
   ],
   "outputs": [],
   "execution_count": 7
  },
  {
   "cell_type": "markdown",
   "metadata": {},
   "source": [
    "#### Aggregates\n",
    "\n",
    "You can use aggregates to setup configs that depend on each other.\n",
    "\n",
    "For example, we change `dataset` and `epochs` based on the `task`."
   ]
  },
  {
   "cell_type": "code",
   "metadata": {
    "ExecuteTime": {
     "end_time": "2024-09-23T19:26:32.343111Z",
     "start_time": "2024-09-23T19:26:32.339221Z"
    }
   },
   "source": [
    "aggregate(Configs.task, 'wiki', (Configs.dataset, 'wikipedia'), (Configs.epochs, 10))\n",
    "aggregate(Configs.task, 'arxiv', (Configs.dataset, 'arxiv'), (Configs.epochs, 100))"
   ],
   "outputs": [],
   "execution_count": 8
  },
  {
   "cell_type": "markdown",
   "metadata": {},
   "source": [
    "#### Hyper-parameters\n",
    "\n",
    "labml will identify any parameter you modify outside the declaration\n",
    "of the class as hyper-parameters.\n",
    "You can also specify hyper-parameters manually.\n",
    "\n",
    "The hyper-parameters will be highlighted among other configs in logs and in [the web app](https://github.com/labmlai/labml/tree/master/app).\n",
    "\n",
    "These will also be logged in to Tensorboard."
   ]
  },
  {
   "cell_type": "code",
   "metadata": {
    "ExecuteTime": {
     "end_time": "2024-09-23T19:26:32.354772Z",
     "start_time": "2024-09-23T19:26:32.350106Z"
    }
   },
   "source": [
    "hyperparams(Configs.epochs)\n",
    "hyperparams(Configs.total_steps, is_hyperparam=False)"
   ],
   "outputs": [],
   "execution_count": 9
  },
  {
   "cell_type": "markdown",
   "metadata": {},
   "source": [
    "#### Running the experiment\n",
    "\n",
    "Here's how you run an experiment with the configurations."
   ]
  },
  {
   "cell_type": "code",
   "metadata": {
    "scrolled": true,
    "ExecuteTime": {
     "end_time": "2024-09-23T19:26:53.664150Z",
     "start_time": "2024-09-23T19:26:53.024812Z"
    }
   },
   "source": [
    "conf = Configs()\n",
    "conf.task = 'arxiv'\n",
    "experiment.create(name='test_configs')\n",
    "experiment.configs(conf)"
   ],
   "outputs": [
    {
     "data": {
      "text/plain": [
       "HTML(value='<pre  style=\"overflow-x: scroll;\"></pre>')"
      ],
      "application/vnd.jupyter.widget-view+json": {
       "version_major": 2,
       "version_minor": 0,
       "model_id": "4797033c64d946a5849619156e3372a1"
      }
     },
     "metadata": {},
     "output_type": "display_data"
    }
   ],
   "execution_count": 11
  },
  {
   "cell_type": "code",
   "metadata": {
    "ExecuteTime": {
     "end_time": "2024-09-23T19:26:55.962108Z",
     "start_time": "2024-09-23T19:26:55.866793Z"
    }
   },
   "source": [
    "experiment.start()"
   ],
   "outputs": [
    {
     "data": {
      "text/plain": [
       "HTML(value='<pre  style=\"overflow-x: scroll;\"></pre>')"
      ],
      "application/vnd.jupyter.widget-view+json": {
       "version_major": 2,
       "version_minor": 0,
       "model_id": "03f10d0606a94b1da5a4d5e09ee3d10b"
      }
     },
     "metadata": {},
     "output_type": "display_data"
    },
    {
     "data": {
      "text/plain": [
       "<labml.internal.experiment.watcher.ExperimentWatcher at 0x13f431a90>"
      ]
     },
     "execution_count": 12,
     "metadata": {},
     "output_type": "execute_result"
    }
   ],
   "execution_count": 12
  },
  {
   "metadata": {},
   "cell_type": "code",
   "outputs": [],
   "execution_count": null,
   "source": ""
  }
 ],
 "metadata": {
  "kernelspec": {
   "display_name": "Python 3 (ipykernel)",
   "language": "python",
   "name": "python3"
  },
  "language_info": {
   "codemirror_mode": {
    "name": "ipython",
    "version": 3
   },
   "file_extension": ".py",
   "mimetype": "text/x-python",
   "name": "python",
   "nbconvert_exporter": "python",
   "pygments_lexer": "ipython3",
   "version": "3.7.11"
  },
  "pycharm": {
   "stem_cell": {
    "cell_type": "raw",
    "metadata": {
     "collapsed": false
    },
    "source": []
   }
  }
 },
 "nbformat": 4,
 "nbformat_minor": 4
}
