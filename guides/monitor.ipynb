{
 "cells": [
  {
   "cell_type": "markdown",
   "metadata": {},
   "source": [
    "# Monitor\n",
    "\n",
    "[![Github](https://img.shields.io/github/stars/lab-ml/labml?style=social)](https://github.com/lab-ml/labml)\n",
    "[![Open In Colab](https://colab.research.google.com/assets/colab-badge.svg)](https://colab.research.google.com/github/lab-ml/labml/blob/master/guides/monitor.ipynb)\n",
    "[![Docs](https://img.shields.io/badge/labml-docs-blue)](https://docs.labml.ai/api/monit.html)"
   ]
  },
  {
   "cell_type": "code",
   "execution_count": null,
   "metadata": {},
   "outputs": [],
   "source": [
    "%%capture\n",
    "!pip install labml"
   ]
  },
  {
   "cell_type": "markdown",
   "metadata": {},
   "source": [
    "## Iterators & Enumerators\n",
    "\n",
    "You can use [labml.monit.iterate](https://docs.labml.ai/api/monit.html#labml.monit.iterate) and [labml.monit.enum](https://docs.labml.ai/api/monit.html#labml.monit.enum) with any iterable object.\n",
    "\n",
    "In this example we use a PyTorch `DataLoader`."
   ]
  },
  {
   "cell_type": "code",
   "execution_count": 1,
   "metadata": {},
   "outputs": [],
   "source": [
    "# Create a data loader for illustration\n",
    "import time\n",
    "\n",
    "import torch\n",
    "from torchvision import datasets, transforms\n",
    "\n",
    "from labml import logger, monit, lab, tracker\n",
    "\n",
    "test_loader = torch.utils.data.DataLoader(\n",
    "        datasets.MNIST(lab.get_data_path(),\n",
    "                       train=False,\n",
    "                       download=True,\n",
    "                       transform=transforms.Compose([\n",
    "                           transforms.ToTensor(),\n",
    "                           transforms.Normalize((0.1307,), (0.3081,))\n",
    "                       ])),\n",
    "        batch_size=32, shuffle=True)"
   ]
  },
  {
   "cell_type": "code",
   "execution_count": 2,
   "metadata": {},
   "outputs": [
    {
     "data": {
      "text/html": [
       "<pre style=\"overflow-x: scroll;\">Test<span style=\"color: #00A250\">...[DONE]</span><span style=\"color: #208FFB\">\t7,217.23ms</span>\n",
       "</pre>"
      ],
      "text/plain": [
       "<IPython.core.display.HTML object>"
      ]
     },
     "metadata": {},
     "output_type": "display_data"
    }
   ],
   "source": [
    "for data, target in monit.iterate(\"Test\", test_loader):\n",
    "    time.sleep(0.01)"
   ]
  },
  {
   "cell_type": "code",
   "execution_count": 3,
   "metadata": {},
   "outputs": [
    {
     "data": {
      "text/html": [
       "<pre style=\"overflow-x: scroll;\">Test<span style=\"color: #00A250\">...[DONE]</span><span style=\"color: #208FFB\">\t7,098.41ms</span>\n",
       "</pre>"
      ],
      "text/plain": [
       "<IPython.core.display.HTML object>"
      ]
     },
     "metadata": {},
     "output_type": "display_data"
    }
   ],
   "source": [
    "for i, (data, target) in monit.enum(\"Test\", test_loader):\n",
    "    time.sleep(0.01)"
   ]
  },
  {
   "cell_type": "markdown",
   "metadata": {},
   "source": [
    "## Sections\n",
    "\n",
    "[labml.monit.section](https://docs.labml.ai/api/monit.html#labml.monit.section) lets you monitor time taken for different tasks and also helps keep the code clean by separating different blocks of code."
   ]
  },
  {
   "cell_type": "code",
   "execution_count": 4,
   "metadata": {},
   "outputs": [
    {
     "data": {
      "text/html": [
       "<pre style=\"overflow-x: scroll;\">Load data<span style=\"color: #00A250\">...[DONE]</span><span style=\"color: #208FFB\">\t2,008.19ms</span>\n",
       "</pre>"
      ],
      "text/plain": [
       "<IPython.core.display.HTML object>"
      ]
     },
     "metadata": {},
     "output_type": "display_data"
    }
   ],
   "source": [
    "with monit.section(\"Load data\"):\n",
    "    # code to load data\n",
    "    time.sleep(2)"
   ]
  },
  {
   "cell_type": "code",
   "execution_count": 5,
   "metadata": {},
   "outputs": [
    {
     "data": {
      "text/html": [
       "<pre style=\"overflow-x: scroll;\">Load saved model<span style=\"color: #E75C58\">...[FAIL]</span><span style=\"color: #208FFB\">\t1,012.11ms</span>\n",
       "</pre>"
      ],
      "text/plain": [
       "<IPython.core.display.HTML object>"
      ]
     },
     "metadata": {},
     "output_type": "display_data"
    }
   ],
   "source": [
    "with monit.section(\"Load saved model\"):\n",
    "    time.sleep(1)\n",
    "    monit.fail()"
   ]
  },
  {
   "cell_type": "markdown",
   "metadata": {},
   "source": [
    "You can also show progress while a section is running"
   ]
  },
  {
   "cell_type": "code",
   "execution_count": 6,
   "metadata": {},
   "outputs": [
    {
     "data": {
      "text/html": [
       "<pre style=\"overflow-x: scroll;\">Train<span style=\"color: #00A250\">...[DONE]</span><span style=\"color: #208FFB\">\t10,705.28ms</span>\n",
       "</pre>"
      ],
      "text/plain": [
       "<IPython.core.display.HTML object>"
      ]
     },
     "metadata": {},
     "output_type": "display_data"
    }
   ],
   "source": [
    "with monit.section(\"Train\"):\n",
    "    for i in range(100):\n",
    "        time.sleep(0.1)\n",
    "        # Multiple training steps in the inner loop\n",
    "        monit.progress(i / 100)"
   ]
  },
  {
   "cell_type": "markdown",
   "metadata": {},
   "source": [
    "You can use [labml.monit.func](https://docs.labml.ai/api/monit.html#labml.monit.func) as a decorator."
   ]
  },
  {
   "cell_type": "code",
   "execution_count": 7,
   "metadata": {},
   "outputs": [
    {
     "data": {
      "text/html": [
       "<pre style=\"overflow-x: scroll;\">Train<span style=\"color: #00A250\">...[DONE]</span><span style=\"color: #208FFB\">\t10,682.99ms</span>\n",
       "</pre>"
      ],
      "text/plain": [
       "<IPython.core.display.HTML object>"
      ]
     },
     "metadata": {},
     "output_type": "display_data"
    }
   ],
   "source": [
    "@monit.func('Train')\n",
    "def train():\n",
    "    for i in range(100):\n",
    "        time.sleep(0.1)\n",
    "        # Multiple training steps in the inner loop\n",
    "        monit.progress(i / 100)    \n",
    "\n",
    "train()"
   ]
  },
  {
   "cell_type": "markdown",
   "metadata": {},
   "source": [
    "## Mix\n",
    "\n",
    "[labml.monit.mix](https://docs.labml.ai/api/monit.html#labml.monit.mix) mixes mulutiple iterators. This is useful when you want to switch between training and validation within a training epoch.\n",
    "\n",
    "The following loop mixes two iterators `2` times. As in it changes between the two iterators only twice."
   ]
  },
  {
   "cell_type": "code",
   "execution_count": 8,
   "metadata": {},
   "outputs": [
    {
     "data": {
      "text/html": [
       "<pre style=\"overflow-x: scroll;\">train; 0\n",
       "train; 8\n",
       "valid; 0\n",
       "valid; 1\n",
       "train; 16\n",
       "train; 24\n",
       "valid; 2\n",
       "valid; 3</pre>"
      ],
      "text/plain": [
       "<IPython.core.display.HTML object>"
      ]
     },
     "metadata": {},
     "output_type": "display_data"
    }
   ],
   "source": [
    "for t, idx in monit.mix(2, ('train', range(0, 32, 8)), ('valid', 4)):\n",
    "    logger.log(f'{t}; {idx}')"
   ]
  },
  {
   "cell_type": "markdown",
   "metadata": {},
   "source": [
    "You can ignore the first parameter and it'll mix as often as possible."
   ]
  },
  {
   "cell_type": "code",
   "execution_count": 9,
   "metadata": {},
   "outputs": [
    {
     "data": {
      "text/html": [
       "<pre style=\"overflow-x: scroll;\">train; 0\n",
       "valid; 0\n",
       "train; 8\n",
       "valid; 1\n",
       "train; 16\n",
       "valid; 2\n",
       "train; 24\n",
       "valid; 3</pre>"
      ],
      "text/plain": [
       "<IPython.core.display.HTML object>"
      ]
     },
     "metadata": {},
     "output_type": "display_data"
    }
   ],
   "source": [
    "for t, idx in monit.mix(('train', range(0, 32, 8)), ('valid', 4)):\n",
    "    logger.log(f'{t}; {idx}')"
   ]
  },
  {
   "cell_type": "markdown",
   "metadata": {},
   "source": [
    "You can specify functions to be called instead of iterating also."
   ]
  },
  {
   "cell_type": "code",
   "execution_count": 10,
   "metadata": {},
   "outputs": [
    {
     "data": {
      "text/html": [
       "<pre style=\"overflow-x: scroll;\">train; 0\n",
       "valid; 0\n",
       "train; 8\n",
       "valid; 1\n",
       "sample: 0\n",
       "train; 16\n",
       "valid; 2\n",
       "train; 24\n",
       "valid; 3\n",
       "sample: 1</pre>"
      ],
      "text/plain": [
       "<IPython.core.display.HTML object>"
      ]
     },
     "metadata": {},
     "output_type": "display_data"
    }
   ],
   "source": [
    "def sample(idx):\n",
    "    logger.log(f'sample: {idx}')\n",
    "    \n",
    "for t, idx in monit.mix(('train', range(0, 32, 8)), ('valid', 4), (sample, 2)):\n",
    "    logger.log(f'{t}; {idx}')"
   ]
  },
  {
   "cell_type": "markdown",
   "metadata": {},
   "source": [
    "## Loop\n",
    "\n",
    "This can be used for the training loop. The [labml.monit.loop](https://docs.labml.ai/api/monit.html#labml.monit.loop) keeps track of the time taken and time remaining for the loop.\n",
    "\n",
    "[labml.tracker.save](https://docs.labml.ai/api/tracker.html#labml.tracker.save) outputs the current status along with global step."
   ]
  },
  {
   "cell_type": "code",
   "execution_count": 11,
   "metadata": {},
   "outputs": [
    {
     "data": {
      "text/html": [
       "<pre style=\"overflow-x: scroll;\"><strong><span style=\"color: #DDB62B\">     399:  </span></strong>  <span style=\"color: #208FFB\">2ms</span><span style=\"color: #D160C4\">  0:00m/  0:00m  </span></pre>"
      ],
      "text/plain": [
       "<IPython.core.display.HTML object>"
      ]
     },
     "metadata": {},
     "output_type": "display_data"
    }
   ],
   "source": [
    "for step in monit.loop(range(0, 400)):\n",
    "    tracker.save()"
   ]
  },
  {
   "cell_type": "markdown",
   "metadata": {},
   "source": [
    "You can manually increment global step too."
   ]
  },
  {
   "cell_type": "code",
   "execution_count": 12,
   "metadata": {},
   "outputs": [
    {
     "data": {
      "text/html": [
       "<pre style=\"overflow-x: scroll;\"><strong><span style=\"color: #DDB62B\">   2,000:  </span></strong>  <span style=\"color: #208FFB\">1ms</span><span style=\"color: #D160C4\">  0:00m/  0:00m  </span></pre>"
      ],
      "text/plain": [
       "<IPython.core.display.HTML object>"
      ]
     },
     "metadata": {},
     "output_type": "display_data"
    }
   ],
   "source": [
    "tracker.set_global_step(0) # Reset the counter because we incremented in previous cell\n",
    "\n",
    "for step in monit.loop(range(0, 400)):\n",
    "    tracker.add_global_step(5)\n",
    "    tracker.save()"
   ]
  },
  {
   "cell_type": "markdown",
   "metadata": {},
   "source": [
    "You can use [labml.monit.mix](https://docs.labml.ai/api/monit.html#labml.monit.mix) within a `loop`."
   ]
  },
  {
   "cell_type": "code",
   "execution_count": 15,
   "metadata": {},
   "outputs": [
    {
     "data": {
      "text/html": [
       "<pre style=\"overflow-x: scroll;\"><strong><span style=\"color: #DDB62B\">      50:  </span></strong>train:<span style=\"color: #C5C1B4\"> 100%</span><span style=\"color: #208FFB\"> 2,972ms  </span>valid:<span style=\"color: #C5C1B4\"> 100%</span><span style=\"color: #208FFB\"> 599ms  </span> train: <span style=\"color: #C5C1B4\"> 49.0000</span> valid: <strong> 9.00000</strong>  <span style=\"color: #208FFB\">3,571ms</span><span style=\"color: #D160C4\">  0:00m/  0:00m  </span>\n",
       "<strong><span style=\"color: #DDB62B\">     100:  </span></strong>train:<span style=\"color: #C5C1B4\"> 100%</span><span style=\"color: #208FFB\"> 3,016ms  </span>valid:<span style=\"color: #C5C1B4\"> 100%</span><span style=\"color: #208FFB\"> 611ms  </span> train: <span style=\"color: #C5C1B4\"> 49.0000</span> valid: <strong> 9.00000</strong>  <span style=\"color: #208FFB\">3,787ms</span><span style=\"color: #D160C4\">  0:00m/  0:00m  </span></pre>"
      ],
      "text/plain": [
       "<IPython.core.display.HTML object>"
      ]
     },
     "metadata": {},
     "output_type": "display_data"
    }
   ],
   "source": [
    "tracker.set_global_step(0) # Reset the counter because we incremented in previous cell\n",
    "\n",
    "for _ in monit.loop(2):\n",
    "    for t, idx in monit.mix(('train', range(50)), ('valid', range(10))):\n",
    "        time.sleep(0.05)\n",
    "        tracker.save({t: idx})\n",
    "        if t == 'train':\n",
    "            tracker.add_global_step()\n",
    "    tracker.new_line()\n"
   ]
  }
 ],
 "metadata": {
  "kernelspec": {
   "display_name": "Python 3 (ipykernel)",
   "language": "python",
   "name": "python3"
  },
  "language_info": {
   "codemirror_mode": {
    "name": "ipython",
    "version": 3
   },
   "file_extension": ".py",
   "mimetype": "text/x-python",
   "name": "python",
   "nbconvert_exporter": "python",
   "pygments_lexer": "ipython3",
   "version": "3.7.11"
  },
  "pycharm": {
   "stem_cell": {
    "cell_type": "raw",
    "metadata": {
     "collapsed": false
    },
    "source": []
   }
  }
 },
 "nbformat": 4,
 "nbformat_minor": 4
}
