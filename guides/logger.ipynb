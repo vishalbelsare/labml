{
 "cells": [
  {
   "cell_type": "markdown",
   "metadata": {},
   "source": [
    "# Logger\n",
    "\n",
    "[![Github](https://img.shields.io/github/stars/lab-ml/labml?style=social)](https://github.com/lab-ml/labml)\n",
    "[![Open In Colab](https://colab.research.google.com/assets/colab-badge.svg)](https://colab.research.google.com/github/lab-ml/labml/blob/master/guides/logger.ipynb) \n",
    "[![Docs](https://img.shields.io/badge/labml-docs-blue)](https://docs.labml.ai/api/logger.html)"
   ]
  },
  {
   "cell_type": "code",
   "metadata": {
    "ExecuteTime": {
     "end_time": "2024-09-23T19:29:18.562627Z",
     "start_time": "2024-09-23T19:29:15.652995Z"
    }
   },
   "source": [
    "%%capture\n",
    "!pip install labml"
   ],
   "outputs": [],
   "execution_count": 1
  },
  {
   "cell_type": "code",
   "metadata": {
    "ExecuteTime": {
     "end_time": "2024-09-23T19:29:18.594795Z",
     "start_time": "2024-09-23T19:29:18.565010Z"
    }
   },
   "source": [
    "from labml import logger\n",
    "from labml.logger import Text, Color"
   ],
   "outputs": [],
   "execution_count": 2
  },
  {
   "cell_type": "markdown",
   "metadata": {},
   "source": [
    "You can log to the screen with\n",
    "[`labml.logger.log`](https://docs.labml.ai/api/logger.html#labml.logger.log)\n",
    "."
   ]
  },
  {
   "cell_type": "markdown",
   "metadata": {},
   "source": [
    "## Logging with colors"
   ]
  },
  {
   "cell_type": "code",
   "metadata": {
    "ExecuteTime": {
     "end_time": "2024-09-23T19:29:18.678298Z",
     "start_time": "2024-09-23T19:29:18.597147Z"
    }
   },
   "source": [
    "logger.log(\"Colors are missing when viewed on github\", Text.highlight)"
   ],
   "outputs": [
    {
     "data": {
      "text/plain": [
       "HTML(value='<pre  style=\"overflow-x: scroll;\"><strong><span style=\"color: #DDB62B\">Colors are missing when vie…"
      ],
      "application/vnd.jupyter.widget-view+json": {
       "version_major": 2,
       "version_minor": 0,
       "model_id": "d5f39a238ec24e4db1f0cbc845e5b146"
      }
     },
     "metadata": {},
     "output_type": "display_data"
    }
   ],
   "execution_count": 3
  },
  {
   "cell_type": "markdown",
   "metadata": {},
   "source": [
    "You can use predifined styles"
   ]
  },
  {
   "cell_type": "code",
   "metadata": {
    "ExecuteTime": {
     "end_time": "2024-09-23T19:29:18.687238Z",
     "start_time": "2024-09-23T19:29:18.680308Z"
    }
   },
   "source": [
    "logger.log([\n",
    "    ('Styles ', Text.heading),\n",
    "    ('Danger ', Text.danger),\n",
    "    ('Warning ', Text.warning),\n",
    "    ('Meta ', Text.meta),\n",
    "    ('Key ', Text.key),\n",
    "    ('Meta2 ', Text.meta2),\n",
    "    ('Title ', Text.title),\n",
    "    ('Heading ', Text.heading),\n",
    "    ('Value ', Text.value),\n",
    "    ('Highlight ', Text.highlight),\n",
    "    ('Subtle', Text.subtle)\n",
    "])"
   ],
   "outputs": [
    {
     "data": {
      "text/plain": [
       "HTML(value='<pre  style=\"overflow-x: scroll;\"><span style=\"text-decoration: underline\">Styles </span><span sty…"
      ],
      "application/vnd.jupyter.widget-view+json": {
       "version_major": 2,
       "version_minor": 0,
       "model_id": "9b9cfafa51f54b2fa977c5eafc373a96"
      }
     },
     "metadata": {},
     "output_type": "display_data"
    }
   ],
   "execution_count": 4
  },
  {
   "cell_type": "markdown",
   "metadata": {},
   "source": [
    "Or, specify colors"
   ]
  },
  {
   "cell_type": "code",
   "metadata": {
    "ExecuteTime": {
     "end_time": "2024-09-23T19:29:18.695248Z",
     "start_time": "2024-09-23T19:29:18.688630Z"
    }
   },
   "source": [
    "logger.log([\n",
    "    ('Colors ', Text.heading),\n",
    "    ('Red ', Color.red),\n",
    "    ('Black ', Color.black),\n",
    "    ('Blue ', Color.blue),\n",
    "    ('Cyan ', Color.cyan),\n",
    "    ('Green ', Color.green),\n",
    "    ('Orange ', Color.orange),\n",
    "    ('Purple Heading ', [Color.purple, Text.heading]),\n",
    "    ('White', Color.white),\n",
    "])"
   ],
   "outputs": [
    {
     "data": {
      "text/plain": [
       "HTML(value='<pre  style=\"overflow-x: scroll;\"><span style=\"text-decoration: underline\">Colors </span><span sty…"
      ],
      "application/vnd.jupyter.widget-view+json": {
       "version_major": 2,
       "version_minor": 0,
       "model_id": "77fe0dc5ca8f41f6ba200bcba83b7fce"
      }
     },
     "metadata": {},
     "output_type": "display_data"
    }
   ],
   "execution_count": 5
  },
  {
   "cell_type": "markdown",
   "metadata": {},
   "source": [
    "## Logging debug info"
   ]
  },
  {
   "cell_type": "markdown",
   "metadata": {},
   "source": [
    "You can pretty print python objects with `:meth:inspect`."
   ]
  },
  {
   "cell_type": "code",
   "metadata": {
    "scrolled": true,
    "ExecuteTime": {
     "end_time": "2024-09-23T19:29:18.705833Z",
     "start_time": "2024-09-23T19:29:18.698819Z"
    }
   },
   "source": [
    "logger.inspect(a=2, b=1)"
   ],
   "outputs": [
    {
     "data": {
      "text/plain": [
       "HTML(value='<pre  style=\"overflow-x: scroll;\"><span style=\"color: #60C6C8\">a: </span><strong>2</strong>\\n<span…"
      ],
      "application/vnd.jupyter.widget-view+json": {
       "version_major": 2,
       "version_minor": 0,
       "model_id": "d4adbd349cff43a9b8a321480863c0d9"
      }
     },
     "metadata": {},
     "output_type": "display_data"
    }
   ],
   "execution_count": 6
  }
 ],
 "metadata": {
  "kernelspec": {
   "display_name": "Python 3",
   "language": "python",
   "name": "python3"
  },
  "language_info": {
   "codemirror_mode": {
    "name": "ipython",
    "version": 3
   },
   "file_extension": ".py",
   "mimetype": "text/x-python",
   "name": "python",
   "nbconvert_exporter": "python",
   "pygments_lexer": "ipython3",
   "version": "3.7.5"
  },
  "pycharm": {
   "stem_cell": {
    "cell_type": "raw",
    "metadata": {
     "collapsed": false
    },
    "source": []
   }
  }
 },
 "nbformat": 4,
 "nbformat_minor": 4
}
